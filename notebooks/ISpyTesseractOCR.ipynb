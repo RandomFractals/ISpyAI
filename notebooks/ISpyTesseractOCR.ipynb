{
 "cells": [
  {
   "cell_type": "code",
   "execution_count": 1,
   "metadata": {},
   "outputs": [
    {
     "name": "stdout",
     "output_type": "stream",
     "text": [
      "Open CV v.: 3.3.0\n"
     ]
    }
   ],
   "source": [
    "from PIL import Image\n",
    "import pytesseract\n",
    "import argparse\n",
    "import cv2\n",
    "import os\n",
    "print('Open CV v.:', cv2.__version__)"
   ]
  },
  {
   "cell_type": "code",
   "execution_count": 2,
   "metadata": {},
   "outputs": [],
   "source": [
    "# load ISpy cover image and convert it to grayscale\n",
    "image = cv2.imread('../data/ISpyCover.png')\n",
    "gray = cv2.cvtColor(image, cv2.COLOR_BGR2GRAY)"
   ]
  },
  {
   "cell_type": "code",
   "execution_count": 3,
   "metadata": {},
   "outputs": [
    {
     "data": {
      "text/plain": [
       "True"
      ]
     },
     "execution_count": 3,
     "metadata": {},
     "output_type": "execute_result"
    }
   ],
   "source": [
    "# write the grayscale image to disk as a temporary file so we can\n",
    "# apply OCR to it later\n",
    "filename = '../data/ISpyCoverGray.png' #\"{}.png\".format(os.getpid())\n",
    "cv2.imwrite(filename, gray)"
   ]
  },
  {
   "cell_type": "code",
   "execution_count": null,
   "metadata": {},
   "outputs": [
    {
     "name": "stdout",
     "output_type": "stream",
     "text": [
      "~ 3 522 901 771 0\n",
      "a 516 649 525 658 0\n",
      "w 189 605 196 611 0\n",
      "5 220 612 229 624 0\n",
      "c 429 603 440 615 0\n",
      "p 441 610 445 612 0\n",
      "s 456 597 473 614 0\n",
      "w 656 595 664 603 0\n",
      "> 773 609 775 611 0\n",
      ". 775 611 782 618 0\n",
      "d 906 0 906 0 0\n",
      "i 906 0 906 0 0\n",
      "m 825 620 826 623 0\n",
      "» 827 609 830 612 0\n",
      "; 849 621 852 624 0\n",
      "m 605 545 611 554 0\n",
      "m 611 545 621 554 0\n",
      "& 657 546 665 555 0\n",
      "4 893 557 897 561 0\n",
      "O 51 480 63 497 0\n",
      "N 68 480 81 497 0\n",
      "L 88 480 95 497 0\n",
      "I 102 480 107 497 0\n",
      "N 109 480 119 497 0\n",
      "E 128 480 141 497 0\n",
      "ﬂ 175 484 230 509 0\n",
      "a 673 485 704 502 0\n",
      "r 711 486 719 502 0\n",
      "a 724 486 734 502 0\n",
      "h 736 486 762 502 0\n",
      "e 765 485 777 502 0\n",
      "s 787 485 801 502 0\n",
      "* 890 497 897 507 0\n",
      "l 7 451 22 473 0\n",
      "G 53 456 68 473 0\n",
      "A 68 456 69 473 0\n",
      "M 83 457 100 473 0\n",
      "E 100 457 116 473 0\n",
      "S 126 456 139 473 0\n",
      "B 648 462 662 478 0\n",
      "O 664 461 680 479 0\n",
      "A 680 462 698 478 0\n",
      "m 699 462 731 478 0\n",
      "G 740 461 755 479 0\n",
      "A 757 462 770 478 0\n",
      "M 775 462 787 478 0\n",
      "E 787 462 797 478 0\n",
      "S 803 462 825 478 0\n",
      ") 861 456 863 458 0\n",
      "o 879 436 895 453 0\n",
      "1 219 13 221 23 0\n",
      "S 227 13 233 23 0\n",
      "P 236 13 240 23 0\n",
      "Y 240 13 251 23 0\n",
      "l 258 13 260 23 0\n",
      "o 260 13 260 23 0\n",
      "g 266 10 272 21 0\n",
      "o 276 13 281 21 0\n",
      "i 288 13 290 21 0\n",
      "s 291 13 296 21 0\n",
      "a 301 13 308 21 0\n",
      "t 312 13 315 23 0\n",
      "r 315 13 316 23 0\n",
      "a 318 13 326 21 0\n",
      "d 326 13 328 21 0\n",
      "e 332 13 335 23 0\n",
      "m 338 13 343 21 0\n",
      "a 348 13 355 21 0\n",
      "r 359 13 362 21 0\n",
      "k 365 13 374 23 0\n",
      "o 378 13 384 21 0\n",
      "f 386 13 389 23 0\n",
      "J 394 13 398 23 0\n",
      "e 398 13 399 23 0\n",
      "a 404 13 408 21 0\n",
      "n 411 13 422 21 0\n",
      "M 428 13 431 23 0\n",
      "a 431 13 443 23 0\n",
      "r 443 13 446 21 0\n",
      "z 449 13 455 21 0\n",
      "a 455 13 457 21 0\n",
      "l 461 13 468 23 0\n",
      "l 469 13 471 23 0\n",
      "o 472 13 477 21 0\n",
      "a 483 13 488 21 0\n",
      "n 491 13 494 21 0\n",
      "d 494 13 504 23 0\n",
      "W 510 13 515 23 0\n",
      "a 515 13 527 23 0\n",
      "t 530 13 532 23 0\n",
      "e 533 13 536 23 0\n",
      "r 539 13 549 21 0\n",
      "W 553 13 560 23 0\n",
      "i 560 13 566 23 0\n",
      "c 566 13 572 21 0\n",
      "k 572 13 574 21 0\n",
      ". 578 13 585 23 0\n",
      "A 590 13 596 23 0\n",
      "l 596 13 602 23 0\n",
      "l 603 13 605 23 0\n",
      "r 610 13 614 21 0\n",
      "g 617 10 621 21 0\n",
      "n 625 13 630 23 0\n",
      "t 630 13 631 23 0\n",
      "s 633 13 639 23 0\n",
      "r 647 13 650 21 0\n",
      "e 650 13 656 21 0\n",
      "s 656 13 658 21 0\n",
      "e 662 13 669 21 0\n",
      "r 669 13 673 21 0\n",
      "v 677 13 683 21 0\n",
      "e 685 13 689 21 0\n",
      "d 693 13 699 23 0\n"
     ]
    }
   ],
   "source": [
    "# load the image as a PIL/Pillow image and apply OCR\n",
    "text = pytesseract.image_to_string(Image.open(filename), boxes=True)\n",
    "#os.remove(filename)\n",
    "print(text)"
   ]
  },
  {
   "cell_type": "code",
   "execution_count": null,
   "metadata": {},
   "outputs": [],
   "source": [
    "# show the output images\n",
    "#cv2.imshow(\"Image\", image)\n",
    "cv2.imshow(\"Output\", gray)\n",
    "cv2.waitKey(0)"
   ]
  },
  {
   "cell_type": "code",
   "execution_count": null,
   "metadata": {},
   "outputs": [],
   "source": []
  }
 ],
 "metadata": {
  "anaconda-cloud": {},
  "kernelspec": {
   "display_name": "Python [default]",
   "language": "python",
   "name": "python3"
  },
  "language_info": {
   "codemirror_mode": {
    "name": "ipython",
    "version": 3
   },
   "file_extension": ".py",
   "mimetype": "text/x-python",
   "name": "python",
   "nbconvert_exporter": "python",
   "pygments_lexer": "ipython3",
   "version": "3.5.2"
  }
 },
 "nbformat": 4,
 "nbformat_minor": 1
}
